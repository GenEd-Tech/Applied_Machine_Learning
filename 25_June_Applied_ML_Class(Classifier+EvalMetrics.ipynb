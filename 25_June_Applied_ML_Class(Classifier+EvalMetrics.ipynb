{
  "nbformat": 4,
  "nbformat_minor": 0,
  "metadata": {
    "colab": {
      "provenance": []
    },
    "kernelspec": {
      "name": "python3",
      "display_name": "Python 3"
    },
    "language_info": {
      "name": "python"
    }
  },
  "cells": [
    {
      "cell_type": "code",
      "source": [
        "import numpy as np"
      ],
      "metadata": {
        "id": "l7LJ0_P06Dnb"
      },
      "execution_count": null,
      "outputs": []
    },
    {
      "cell_type": "code",
      "source": [
        "from sklearn.datasets import fetch_openml\n",
        "mnist = fetch_openml('mnist_784', version=1)\n",
        "mnist.keys()\n"
      ],
      "metadata": {
        "colab": {
          "base_uri": "https://localhost:8080/"
        },
        "id": "Xw9czCTqsRby",
        "outputId": "f4fa6296-5809-4f7c-f323-c2cdd5bc3bce"
      },
      "execution_count": null,
      "outputs": [
        {
          "output_type": "execute_result",
          "data": {
            "text/plain": [
              "dict_keys(['data', 'target', 'frame', 'categories', 'feature_names', 'target_names', 'DESCR', 'details', 'url'])"
            ]
          },
          "metadata": {},
          "execution_count": 3
        }
      ]
    },
    {
      "cell_type": "code",
      "source": [
        "X, y = mnist[\"data\"], mnist[\"target\"]"
      ],
      "metadata": {
        "id": "qLmHSNE05P23"
      },
      "execution_count": null,
      "outputs": []
    },
    {
      "cell_type": "code",
      "source": [
        "X.shape"
      ],
      "metadata": {
        "colab": {
          "base_uri": "https://localhost:8080/"
        },
        "id": "5RdH-gB35RMh",
        "outputId": "978537a8-70e1-4863-92ab-c8ed275c7a10"
      },
      "execution_count": null,
      "outputs": [
        {
          "output_type": "execute_result",
          "data": {
            "text/plain": [
              "(70000, 784)"
            ]
          },
          "metadata": {},
          "execution_count": 5
        }
      ]
    },
    {
      "cell_type": "code",
      "source": [
        "y.shape"
      ],
      "metadata": {
        "colab": {
          "base_uri": "https://localhost:8080/"
        },
        "id": "tJTLX9vd5UCC",
        "outputId": "579e1e09-28af-441d-835c-5a25dfd74468"
      },
      "execution_count": null,
      "outputs": [
        {
          "output_type": "execute_result",
          "data": {
            "text/plain": [
              "(70000,)"
            ]
          },
          "metadata": {},
          "execution_count": 6
        }
      ]
    },
    {
      "cell_type": "code",
      "source": [
        "import matplotlib as mpl\n",
        "import matplotlib.pyplot as plt\n",
        "some_digit = X.iloc[4].values\n",
        "some_digit_image = some_digit.reshape(28, 28)\n",
        "plt.imshow(some_digit_image, cmap = mpl.cm.binary, interpolation=\"nearest\")\n",
        "plt.axis(\"off\")\n",
        "plt.show()"
      ],
      "metadata": {
        "colab": {
          "base_uri": "https://localhost:8080/",
          "height": 406
        },
        "id": "4_xDJY925e5V",
        "outputId": "31ac2ca3-c050-4e08-fe3b-81a1cb69dfe5"
      },
      "execution_count": null,
      "outputs": [
        {
          "output_type": "display_data",
          "data": {
            "text/plain": [
              "<Figure size 640x480 with 1 Axes>"
            ],
            "image/png": "[encoded data removed]"
          },
          "metadata": {}
        }
      ]
    },
    {
      "cell_type": "code",
      "source": [
        "y[0]"
      ],
      "metadata": {
        "colab": {
          "base_uri": "https://localhost:8080/"
        },
        "id": "tD6U153A5_65",
        "outputId": "1d94ab6e-f5c6-47ac-a71b-f7d737d570d6"
      },
      "execution_count": null,
      "outputs": [
        {
          "output_type": "execute_result",
          "data": {
            "text/plain": [
              "np.uint8(5)"
            ]
          },
          "metadata": {},
          "execution_count": 35
        }
      ]
    },
    {
      "cell_type": "code",
      "source": [
        " y = y.astype(np.uint8)"
      ],
      "metadata": {
        "id": "VLnL9Tlvcspo"
      },
      "execution_count": null,
      "outputs": []
    },
    {
      "cell_type": "code",
      "source": [
        "y[3]"
      ],
      "metadata": {
        "colab": {
          "base_uri": "https://localhost:8080/"
        },
        "id": "JB2bSE3Zcxrt",
        "outputId": "df4d845e-aceb-48d6-8dae-47f5b9a047b3"
      },
      "execution_count": null,
      "outputs": [
        {
          "output_type": "execute_result",
          "data": {
            "text/plain": [
              "np.uint8(1)"
            ]
          },
          "metadata": {},
          "execution_count": 10
        }
      ]
    },
    {
      "cell_type": "code",
      "source": [
        "X_train, X_test, y_train, y_test = X[:60000], X[60000:], y[:60000], y[60000:]"
      ],
      "metadata": {
        "id": "tEp3RJDJ5yKA"
      },
      "execution_count": null,
      "outputs": []
    },
    {
      "cell_type": "code",
      "source": [
        "y_train_5 = (y_train == 5)  # True for all 5s, False for all other digits.\n",
        "y_test_5 = (y_test == 5)"
      ],
      "metadata": {
        "id": "HJw58KpafKoH"
      },
      "execution_count": null,
      "outputs": []
    },
    {
      "cell_type": "code",
      "source": [
        "from sklearn.linear_model import SGDClassifier\n",
        "sgd_clf = SGDClassifier(random_state=42)\n",
        "sgd_clf.fit(X_train, y_train_5)"
      ],
      "metadata": {
        "colab": {
          "base_uri": "https://localhost:8080/",
          "height": 80
        },
        "id": "diPvpWfqfNqA",
        "outputId": "f2b30927-f8da-4925-c96b-00ae345f1316"
      },
      "execution_count": null,
      "outputs": [
        {
          "output_type": "execute_result",
          "data": {
            "text/plain": [
              "SGDClassifier(random_state=42)"
            ],
            "text/html": [
              "<style>#sk-container-id-2 {\n",
              "  /* Definition of color scheme common for light and dark mode */\n",
              "  --sklearn-color-text: #000;\n",
              "  --sklearn-color-text-muted: #666;\n",
              "  --sklearn-color-line: gray;\n",
              "  /* Definition of color scheme for unfitted estimators */\n",
              "  --sklearn-color-unfitted-level-0: #fff5e6;\n",
              "  --sklearn-color-unfitted-level-1: #f6e4d2;\n",
              "  --sklearn-color-unfitted-level-2: #ffe0b3;\n",
              "  --sklearn-color-unfitted-level-3: chocolate;\n",
              "  /* Definition of color scheme for fitted estimators */\n",
              "  --sklearn-color-fitted-level-0: #f0f8ff;\n",
              "  --sklearn-color-fitted-level-1: #d4ebff;\n",
              "  --sklearn-color-fitted-level-2: #b3dbfd;\n",
              "  --sklearn-color-fitted-level-3: cornflowerblue;\n",
              "\n",
              "  /* Specific color for light theme */\n",
              "  --sklearn-color-text-on-default-background: var(--sg-text-color, var(--theme-code-foreground, var(--jp-content-font-color1, black)));\n",
              "  --sklearn-color-background: var(--sg-background-color, var(--theme-background, var(--jp-layout-color0, white)));\n",
              "  --sklearn-color-border-box: var(--sg-text-color, var(--theme-code-foreground, var(--jp-content-font-color1, black)));\n",
              "  --sklearn-color-icon: #696969;\n",
              "\n",
              "  @media (prefers-color-scheme: dark) {\n",
              "    /* Redefinition of color scheme for dark theme */\n",
              "    --sklearn-color-text-on-default-background: var(--sg-text-color, var(--theme-code-foreground, var(--jp-content-font-color1, white)));\n",
              "    --sklearn-color-background: var(--sg-background-color, var(--theme-background, var(--jp-layout-color0, #111)));\n",
              "    --sklearn-color-border-box: var(--sg-text-color, var(--theme-code-foreground, var(--jp-content-font-color1, white)));\n",
              "    --sklearn-color-icon: #878787;\n",
              "  }\n",
              "}\n",
              "\n",
              "#sk-container-id-2 {\n",
              "  color: var(--sklearn-color-text);\n",
              "}\n",
              "\n",
              "#sk-container-id-2 pre {\n",
              "  padding: 0;\n",
              "}\n",
              "\n",
              "#sk-container-id-2 input.sk-hidden--visually {\n",
              "  border: 0;\n",
              "  clip: rect(1px 1px 1px 1px);\n",
              "  clip: rect(1px, 1px, 1px, 1px);\n",
              "  height: 1px;\n",
              "  margin: -1px;\n",
              "  overflow: hidden;\n",
              "  padding: 0;\n",
              "  position: absolute;\n",
              "  width: 1px;\n",
              "}\n",
              "\n",
              "#sk-container-id-2 div.sk-dashed-wrapped {\n",
              "  border: 1px dashed var(--sklearn-color-line);\n",
              "  margin: 0 0.4em 0.5em 0.4em;\n",
              "  box-sizing: border-box;\n",
              "  padding-bottom: 0.4em;\n",
              "  background-color: var(--sklearn-color-background);\n",
              "}\n",
              "\n",
              "#sk-container-id-2 div.sk-container {\n",
              "  /* jupyter's `normalize.less` sets `[hidden] { display: none; }`\n",
              "     but bootstrap.min.css set `[hidden] { display: none !important; }`\n",
              "     so we also need the `!important` here to be able to override the\n",
              "     default hidden behavior on the sphinx rendered scikit-learn.org.\n",
              "     See: https://github.com/scikit-learn/scikit-learn/issues/21755 */\n",
              "  display: inline-block !important;\n",
              "  position: relative;\n",
              "}\n",
              "\n",
              "#sk-container-id-2 div.sk-text-repr-fallback {\n",
              "  display: none;\n",
              "}\n",
              "\n",
              "div.sk-parallel-item,\n",
              "div.sk-serial,\n",
              "div.sk-item {\n",
              "  /* draw centered vertical line to link estimators */\n",
              "  background-image: linear-gradient(var(--sklearn-color-text-on-default-background), var(--sklearn-color-text-on-default-background));\n",
              "  background-size: 2px 100%;\n",
              "  background-repeat: no-repeat;\n",
              "  background-position: center center;\n",
              "}\n",
              "\n",
              "/* Parallel-specific style estimator block */\n",
              "\n",
              "#sk-container-id-2 div.sk-parallel-item::after {\n",
              "  content: \"\";\n",
              "  width: 100%;\n",
              "  border-bottom: 2px solid var(--sklearn-color-text-on-default-background);\n",
              "  flex-grow: 1;\n",
              "}\n",
              "\n",
              "#sk-container-id-2 div.sk-parallel {\n",
              "  display: flex;\n",
              "  align-items: stretch;\n",
              "  justify-content: center;\n",
              "  background-color: var(--sklearn-color-background);\n",
              "  position: relative;\n",
              "}\n",
              "\n",
              "#sk-container-id-2 div.sk-parallel-item {\n",
              "  display: flex;\n",
              "  flex-direction: column;\n",
              "}\n",
              "\n",
              "#sk-container-id-2 div.sk-parallel-item:first-child::after {\n",
              "  align-self: flex-end;\n",
              "  width: 50%;\n",
              "}\n",
              "\n",
              "#sk-container-id-2 div.sk-parallel-item:last-child::after {\n",
              "  align-self: flex-start;\n",
              "  width: 50%;\n",
              "}\n",
              "\n",
              "#sk-container-id-2 div.sk-parallel-item:only-child::after {\n",
              "  width: 0;\n",
              "}\n",
              "\n",
              "/* Serial-specific style estimator block */\n",
              "\n",
              "#sk-container-id-2 div.sk-serial {\n",
              "  display: flex;\n",
              "  flex-direction: column;\n",
              "  align-items: center;\n",
              "  background-color: var(--sklearn-color-background);\n",
              "  padding-right: 1em;\n",
              "  padding-left: 1em;\n",
              "}\n",
              "\n",
              "\n",
              "/* Toggleable style: style used for estimator/Pipeline/ColumnTransformer box that is\n",
              "clickable and can be expanded/collapsed.\n",
              "- Pipeline and ColumnTransformer use this feature and define the default style\n",
              "- Estimators will overwrite some part of the style using the `sk-estimator` class\n",
              "*/\n",
              "\n",
              "/* Pipeline and ColumnTransformer style (default) */\n",
              "\n",
              "#sk-container-id-2 div.sk-toggleable {\n",
              "  /* Default theme specific background. It is overwritten whether we have a\n",
              "  specific estimator or a Pipeline/ColumnTransformer */\n",
              "  background-color: var(--sklearn-color-background);\n",
              "}\n",
              "\n",
              "/* Toggleable label */\n",
              "#sk-container-id-2 label.sk-toggleable__label {\n",
              "  cursor: pointer;\n",
              "  display: flex;\n",
              "  width: 100%;\n",
              "  margin-bottom: 0;\n",
              "  padding: 0.5em;\n",
              "  box-sizing: border-box;\n",
              "  text-align: center;\n",
              "  align-items: start;\n",
              "  justify-content: space-between;\n",
              "  gap: 0.5em;\n",
              "}\n",
              "\n",
              "#sk-container-id-2 label.sk-toggleable__label .caption {\n",
              "  font-size: 0.6rem;\n",
              "  font-weight: lighter;\n",
              "  color: var(--sklearn-color-text-muted);\n",
              "}\n",
              "\n",
              "#sk-container-id-2 label.sk-toggleable__label-arrow:before {\n",
              "  /* Arrow on the left of the label */\n",
              "  content: \"▸\";\n",
              "  float: left;\n",
              "  margin-right: 0.25em;\n",
              "  color: var(--sklearn-color-icon);\n",
              "}\n",
              "\n",
              "#sk-container-id-2 label.sk-toggleable__label-arrow:hover:before {\n",
              "  color: var(--sklearn-color-text);\n",
              "}\n",
              "\n",
              "/* Toggleable content - dropdown */\n",
              "\n",
              "#sk-container-id-2 div.sk-toggleable__content {\n",
              "  max-height: 0;\n",
              "  max-width: 0;\n",
              "  overflow: hidden;\n",
              "  text-align: left;\n",
              "  /* unfitted */\n",
              "  background-color: var(--sklearn-color-unfitted-level-0);\n",
              "}\n",
              "\n",
              "#sk-container-id-2 div.sk-toggleable__content.fitted {\n",
              "  /* fitted */\n",
              "  background-color: var(--sklearn-color-fitted-level-0);\n",
              "}\n",
              "\n",
              "#sk-container-id-2 div.sk-toggleable__content pre {\n",
              "  margin: 0.2em;\n",
              "  border-radius: 0.25em;\n",
              "  color: var(--sklearn-color-text);\n",
              "  /* unfitted */\n",
              "  background-color: var(--sklearn-color-unfitted-level-0);\n",
              "}\n",
              "\n",
              "#sk-container-id-2 div.sk-toggleable__content.fitted pre {\n",
              "  /* unfitted */\n",
              "  background-color: var(--sklearn-color-fitted-level-0);\n",
              "}\n",
              "\n",
              "#sk-container-id-2 input.sk-toggleable__control:checked~div.sk-toggleable__content {\n",
              "  /* Expand drop-down */\n",
              "  max-height: 200px;\n",
              "  max-width: 100%;\n",
              "  overflow: auto;\n",
              "}\n",
              "\n",
              "#sk-container-id-2 input.sk-toggleable__control:checked~label.sk-toggleable__label-arrow:before {\n",
              "  content: \"▾\";\n",
              "}\n",
              "\n",
              "/* Pipeline/ColumnTransformer-specific style */\n",
              "\n",
              "#sk-container-id-2 div.sk-label input.sk-toggleable__control:checked~label.sk-toggleable__label {\n",
              "  color: var(--sklearn-color-text);\n",
              "  background-color: var(--sklearn-color-unfitted-level-2);\n",
              "}\n",
              "\n",
              "#sk-container-id-2 div.sk-label.fitted input.sk-toggleable__control:checked~label.sk-toggleable__label {\n",
              "  background-color: var(--sklearn-color-fitted-level-2);\n",
              "}\n",
              "\n",
              "/* Estimator-specific style */\n",
              "\n",
              "/* Colorize estimator box */\n",
              "#sk-container-id-2 div.sk-estimator input.sk-toggleable__control:checked~label.sk-toggleable__label {\n",
              "  /* unfitted */\n",
              "  background-color: var(--sklearn-color-unfitted-level-2);\n",
              "}\n",
              "\n",
              "#sk-container-id-2 div.sk-estimator.fitted input.sk-toggleable__control:checked~label.sk-toggleable__label {\n",
              "  /* fitted */\n",
              "  background-color: var(--sklearn-color-fitted-level-2);\n",
              "}\n",
              "\n",
              "#sk-container-id-2 div.sk-label label.sk-toggleable__label,\n",
              "#sk-container-id-2 div.sk-label label {\n",
              "  /* The background is the default theme color */\n",
              "  color: var(--sklearn-color-text-on-default-background);\n",
              "}\n",
              "\n",
              "/* On hover, darken the color of the background */\n",
              "#sk-container-id-2 div.sk-label:hover label.sk-toggleable__label {\n",
              "  color: var(--sklearn-color-text);\n",
              "  background-color: var(--sklearn-color-unfitted-level-2);\n",
              "}\n",
              "\n",
              "/* Label box, darken color on hover, fitted */\n",
              "#sk-container-id-2 div.sk-label.fitted:hover label.sk-toggleable__label.fitted {\n",
              "  color: var(--sklearn-color-text);\n",
              "  background-color: var(--sklearn-color-fitted-level-2);\n",
              "}\n",
              "\n",
              "/* Estimator label */\n",
              "\n",
              "#sk-container-id-2 div.sk-label label {\n",
              "  font-family: monospace;\n",
              "  font-weight: bold;\n",
              "  display: inline-block;\n",
              "  line-height: 1.2em;\n",
              "}\n",
              "\n",
              "#sk-container-id-2 div.sk-label-container {\n",
              "  text-align: center;\n",
              "}\n",
              "\n",
              "/* Estimator-specific */\n",
              "#sk-container-id-2 div.sk-estimator {\n",
              "  font-family: monospace;\n",
              "  border: 1px dotted var(--sklearn-color-border-box);\n",
              "  border-radius: 0.25em;\n",
              "  box-sizing: border-box;\n",
              "  margin-bottom: 0.5em;\n",
              "  /* unfitted */\n",
              "  background-color: var(--sklearn-color-unfitted-level-0);\n",
              "}\n",
              "\n",
              "#sk-container-id-2 div.sk-estimator.fitted {\n",
              "  /* fitted */\n",
              "  background-color: var(--sklearn-color-fitted-level-0);\n",
              "}\n",
              "\n",
              "/* on hover */\n",
              "#sk-container-id-2 div.sk-estimator:hover {\n",
              "  /* unfitted */\n",
              "  background-color: var(--sklearn-color-unfitted-level-2);\n",
              "}\n",
              "\n",
              "#sk-container-id-2 div.sk-estimator.fitted:hover {\n",
              "  /* fitted */\n",
              "  background-color: var(--sklearn-color-fitted-level-2);\n",
              "}\n",
              "\n",
              "/* Specification for estimator info (e.g. \"i\" and \"?\") */\n",
              "\n",
              "/* Common style for \"i\" and \"?\" */\n",
              "\n",
              ".sk-estimator-doc-link,\n",
              "a:link.sk-estimator-doc-link,\n",
              "a:visited.sk-estimator-doc-link {\n",
              "  float: right;\n",
              "  font-size: smaller;\n",
              "  line-height: 1em;\n",
              "  font-family: monospace;\n",
              "  background-color: var(--sklearn-color-background);\n",
              "  border-radius: 1em;\n",
              "  height: 1em;\n",
              "  width: 1em;\n",
              "  text-decoration: none !important;\n",
              "  margin-left: 0.5em;\n",
              "  text-align: center;\n",
              "  /* unfitted */\n",
              "  border: var(--sklearn-color-unfitted-level-1) 1pt solid;\n",
              "  color: var(--sklearn-color-unfitted-level-1);\n",
              "}\n",
              "\n",
              ".sk-estimator-doc-link.fitted,\n",
              "a:link.sk-estimator-doc-link.fitted,\n",
              "a:visited.sk-estimator-doc-link.fitted {\n",
              "  /* fitted */\n",
              "  border: var(--sklearn-color-fitted-level-1) 1pt solid;\n",
              "  color: var(--sklearn-color-fitted-level-1);\n",
              "}\n",
              "\n",
              "/* On hover */\n",
              "div.sk-estimator:hover .sk-estimator-doc-link:hover,\n",
              ".sk-estimator-doc-link:hover,\n",
              "div.sk-label-container:hover .sk-estimator-doc-link:hover,\n",
              ".sk-estimator-doc-link:hover {\n",
              "  /* unfitted */\n",
              "  background-color: var(--sklearn-color-unfitted-level-3);\n",
              "  color: var(--sklearn-color-background);\n",
              "  text-decoration: none;\n",
              "}\n",
              "\n",
              "div.sk-estimator.fitted:hover .sk-estimator-doc-link.fitted:hover,\n",
              ".sk-estimator-doc-link.fitted:hover,\n",
              "div.sk-label-container:hover .sk-estimator-doc-link.fitted:hover,\n",
              ".sk-estimator-doc-link.fitted:hover {\n",
              "  /* fitted */\n",
              "  background-color: var(--sklearn-color-fitted-level-3);\n",
              "  color: var(--sklearn-color-background);\n",
              "  text-decoration: none;\n",
              "}\n",
              "\n",
              "/* Span, style for the box shown on hovering the info icon */\n",
              ".sk-estimator-doc-link span {\n",
              "  display: none;\n",
              "  z-index: 9999;\n",
              "  position: relative;\n",
              "  font-weight: normal;\n",
              "  right: .2ex;\n",
              "  padding: .5ex;\n",
              "  margin: .5ex;\n",
              "  width: min-content;\n",
              "  min-width: 20ex;\n",
              "  max-width: 50ex;\n",
              "  color: var(--sklearn-color-text);\n",
              "  box-shadow: 2pt 2pt 4pt #999;\n",
              "  /* unfitted */\n",
              "  background: var(--sklearn-color-unfitted-level-0);\n",
              "  border: .5pt solid var(--sklearn-color-unfitted-level-3);\n",
              "}\n",
              "\n",
              ".sk-estimator-doc-link.fitted span {\n",
              "  /* fitted */\n",
              "  background: var(--sklearn-color-fitted-level-0);\n",
              "  border: var(--sklearn-color-fitted-level-3);\n",
              "}\n",
              "\n",
              ".sk-estimator-doc-link:hover span {\n",
              "  display: block;\n",
              "}\n",
              "\n",
              "/* \"?\"-specific style due to the `<a>` HTML tag */\n",
              "\n",
              "#sk-container-id-2 a.estimator_doc_link {\n",
              "  float: right;\n",
              "  font-size: 1rem;\n",
              "  line-height: 1em;\n",
              "  font-family: monospace;\n",
              "  background-color: var(--sklearn-color-background);\n",
              "  border-radius: 1rem;\n",
              "  height: 1rem;\n",
              "  width: 1rem;\n",
              "  text-decoration: none;\n",
              "  /* unfitted */\n",
              "  color: var(--sklearn-color-unfitted-level-1);\n",
              "  border: var(--sklearn-color-unfitted-level-1) 1pt solid;\n",
              "}\n",
              "\n",
              "#sk-container-id-2 a.estimator_doc_link.fitted {\n",
              "  /* fitted */\n",
              "  border: var(--sklearn-color-fitted-level-1) 1pt solid;\n",
              "  color: var(--sklearn-color-fitted-level-1);\n",
              "}\n",
              "\n",
              "/* On hover */\n",
              "#sk-container-id-2 a.estimator_doc_link:hover {\n",
              "  /* unfitted */\n",
              "  background-color: var(--sklearn-color-unfitted-level-3);\n",
              "  color: var(--sklearn-color-background);\n",
              "  text-decoration: none;\n",
              "}\n",
              "\n",
              "#sk-container-id-2 a.estimator_doc_link.fitted:hover {\n",
              "  /* fitted */\n",
              "  background-color: var(--sklearn-color-fitted-level-3);\n",
              "}\n",
              "</style><div id=\"sk-container-id-2\" class=\"sk-top-container\"><div class=\"sk-text-repr-fallback\"><pre>SGDClassifier(random_state=42)</pre><b>In a Jupyter environment, please rerun this cell to show the HTML representation or trust the notebook. <br />On GitHub, the HTML representation is unable to render, please try loading this page with nbviewer.org.</b></div><div class=\"sk-container\" hidden><div class=\"sk-item\"><div class=\"sk-estimator fitted sk-toggleable\"><input class=\"sk-toggleable__control sk-hidden--visually\" id=\"sk-estimator-id-2\" type=\"checkbox\" checked><label for=\"sk-estimator-id-2\" class=\"sk-toggleable__label fitted sk-toggleable__label-arrow\"><div><div>SGDClassifier</div></div><div><a class=\"sk-estimator-doc-link fitted\" rel=\"noreferrer\" target=\"_blank\" href=\"https://scikit-learn.org/1.6/modules/generated/sklearn.linear_model.SGDClassifier.html\">?<span>Documentation for SGDClassifier</span></a><span class=\"sk-estimator-doc-link fitted\">i<span>Fitted</span></span></div></label><div class=\"sk-toggleable__content fitted\"><pre>SGDClassifier(random_state=42)</pre></div> </div></div></div></div>"
            ]
          },
          "metadata": {},
          "execution_count": 19
        }
      ]
    },
    {
      "cell_type": "code",
      "source": [
        "sgd_clf.predict([some_digit])"
      ],
      "metadata": {
        "colab": {
          "base_uri": "https://localhost:8080/"
        },
        "id": "vGW0FSIofN_4",
        "outputId": "a96aa6ea-f79c-4986-a184-28bc49f08970"
      },
      "execution_count": null,
      "outputs": [
        {
          "output_type": "execute_result",
          "data": {
            "text/plain": [
              "array([ True])"
            ]
          },
          "metadata": {},
          "execution_count": 39
        }
      ]
    },
    {
      "cell_type": "markdown",
      "source": [
        "## Performance Measures"
      ],
      "metadata": {
        "id": "qVbQpI2Vff3S"
      }
    },
    {
      "cell_type": "markdown",
      "source": [
        "Accuracy"
      ],
      "metadata": {
        "id": "hfa_gOkrg5lb"
      }
    },
    {
      "cell_type": "code",
      "source": [
        "from sklearn.model_selection import cross_val_score\n",
        "cross_val_score(sgd_clf, X_train, y_train_5, cv=2, scoring=\"accuracy\")"
      ],
      "metadata": {
        "colab": {
          "base_uri": "https://localhost:8080/"
        },
        "id": "9Sn6fHj1fOQd",
        "outputId": "40829eb9-a291-48f5-8a3c-3405a7a726f3"
      },
      "execution_count": null,
      "outputs": [
        {
          "output_type": "execute_result",
          "data": {
            "text/plain": [
              "array([0.95506667, 0.9524    ])"
            ]
          },
          "metadata": {},
          "execution_count": 40
        }
      ]
    },
    {
      "cell_type": "markdown",
      "source": [
        "let’s look at a very\n",
        " dumb classifier that just classifies every single image in the “not-5” class:"
      ],
      "metadata": {
        "id": "w4Sq-XO0gtZ_"
      }
    },
    {
      "cell_type": "code",
      "source": [
        "from sklearn.base import BaseEstimator\n",
        "class Never5Classifier(BaseEstimator):\n",
        "  def fit(self, X, y=None):\n",
        "    pass\n",
        "  def predict(self, X):\n",
        "    return np.zeros((len(X), 1), dtype=bool)"
      ],
      "metadata": {
        "id": "S4QacfFWfc1y"
      },
      "execution_count": null,
      "outputs": []
    },
    {
      "cell_type": "code",
      "source": [
        "never_5_clf = Never5Classifier()\n",
        "cross_val_score(never_5_clf, X_train, y_train_5, cv=3, scoring=\"accuracy\")"
      ],
      "metadata": {
        "colab": {
          "base_uri": "https://localhost:8080/"
        },
        "id": "jm5iW0tVfcyu",
        "outputId": "12c30556-1101-42aa-9e13-1215ac7a8147"
      },
      "execution_count": null,
      "outputs": [
        {
          "output_type": "execute_result",
          "data": {
            "text/plain": [
              "array([0.91125, 0.90855, 0.90915])"
            ]
          },
          "metadata": {},
          "execution_count": 28
        }
      ]
    },
    {
      "cell_type": "markdown",
      "source": [
        " Confusion Matrix"
      ],
      "metadata": {
        "id": "x698dLqXg2CM"
      }
    },
    {
      "cell_type": "code",
      "source": [
        "from sklearn.model_selection import cross_val_predict\n",
        "y_train_pred = cross_val_predict(sgd_clf, X_train, y_train_5, cv=3)"
      ],
      "metadata": {
        "id": "a-1N2eZ_fcu7"
      },
      "execution_count": null,
      "outputs": []
    },
    {
      "cell_type": "code",
      "source": [
        "from sklearn.metrics import confusion_matrix\n",
        "confusion_matrix(y_train_5, y_train_pred)"
      ],
      "metadata": {
        "colab": {
          "base_uri": "https://localhost:8080/"
        },
        "id": "4SA8EpiYfclr",
        "outputId": "ad100ed8-aeed-458d-cccd-909477785015"
      },
      "execution_count": null,
      "outputs": [
        {
          "output_type": "execute_result",
          "data": {
            "text/plain": [
              "array([[53892,   687],\n",
              "       [ 1891,  3530]])"
            ]
          },
          "metadata": {},
          "execution_count": 30
        }
      ]
    },
    {
      "cell_type": "markdown",
      "source": [
        "53,892 of them were correctly classified as non-5s (they are called true\n",
        " negatives), while the remaining 687 were wrongly classified as 5s (false positives).\n",
        " The second row considers the images of 5s (the positive class): 1891 were wrongly\n",
        " classified as non-5s (false negatives), while the remaining 3530 were correctly classi\n",
        "fied as 5s (true positives)."
      ],
      "metadata": {
        "id": "G6mSjBIzkOc6"
      }
    },
    {
      "cell_type": "code",
      "source": [
        "y_train_perfect_predictions = y_train_5  # pretend we reached perfection\n",
        "confusion_matrix(y_train_5, y_train_perfect_predictions)"
      ],
      "metadata": {
        "colab": {
          "base_uri": "https://localhost:8080/"
        },
        "id": "G67JRq1Vg7z6",
        "outputId": "c7435fdd-0a87-4f11-b63b-6c24b0a333ba"
      },
      "execution_count": null,
      "outputs": [
        {
          "output_type": "execute_result",
          "data": {
            "text/plain": [
              "array([[54579,     0],\n",
              "       [    0,  5421]])"
            ]
          },
          "metadata": {},
          "execution_count": 31
        }
      ]
    },
    {
      "cell_type": "markdown",
      "source": [
        "precision of the classifier"
      ],
      "metadata": {
        "id": "l-nO4CTZkvOh"
      }
    },
    {
      "cell_type": "markdown",
      "source": [
        "![precision.JPG](data:image/jpeg;base64,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)"
      ],
      "metadata": {
        "id": "ssoGapCvlV7S"
      }
    },
    {
      "cell_type": "code",
      "source": [
        "from sklearn.metrics import precision_score, recall_score\n",
        "precision_score(y_train_5, y_train_pred)"
      ],
      "metadata": {
        "colab": {
          "base_uri": "https://localhost:8080/"
        },
        "id": "8GIYM2n1lOAb",
        "outputId": "b8e3e59c-7d1a-4e4f-f70f-4d6d8361b618"
      },
      "execution_count": null,
      "outputs": [
        {
          "output_type": "execute_result",
          "data": {
            "text/plain": [
              "0.8370879772350012"
            ]
          },
          "metadata": {},
          "execution_count": 32
        }
      ]
    },
    {
      "cell_type": "markdown",
      "source": [
        "Recall, also called sensitivity or true positive rate"
      ],
      "metadata": {
        "id": "0TyKQcD5lLml"
      }
    },
    {
      "cell_type": "markdown",
      "source": [
        "![recall.JPG](data:image/jpeg;base64,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)"
      ],
      "metadata": {
        "id": "NtFe9RE7lX5r"
      }
    },
    {
      "cell_type": "code",
      "source": [
        "recall_score(y_train_5, y_train_pred)"
      ],
      "metadata": {
        "colab": {
          "base_uri": "https://localhost:8080/"
        },
        "id": "ZblyyvSpg7uL",
        "outputId": "5f590f3f-c293-4cab-843f-9554dbcaf65d"
      },
      "execution_count": null,
      "outputs": [
        {
          "output_type": "execute_result",
          "data": {
            "text/plain": [
              "0.6511713705958311"
            ]
          },
          "metadata": {},
          "execution_count": 33
        }
      ]
    },
    {
      "cell_type": "markdown",
      "source": [
        "To combine precision and recall into a single metric called the F1\n",
        " score"
      ],
      "metadata": {
        "id": "ZkqraDMKmNbg"
      }
    },
    {
      "cell_type": "markdown",
      "source": [
        "![f1score.JPG](data:image/jpeg;base64,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)"
      ],
      "metadata": {
        "id": "XmJa8emomJ2R"
      }
    },
    {
      "cell_type": "code",
      "source": [
        "from sklearn.metrics import f1_score\n",
        "f1_score(y_train_5, y_train_pred)"
      ],
      "metadata": {
        "colab": {
          "base_uri": "https://localhost:8080/"
        },
        "id": "ew9tOia-ls9b",
        "outputId": "04a5b6e2-9830-4cce-c392-c93a8f4808f9"
      },
      "execution_count": null,
      "outputs": [
        {
          "output_type": "execute_result",
          "data": {
            "text/plain": [
              "0.7325171197343847"
            ]
          },
          "metadata": {},
          "execution_count": 34
        }
      ]
    },
    {
      "cell_type": "code",
      "source": [],
      "metadata": {
        "id": "FqKzig3dls6m"
      },
      "execution_count": null,
      "outputs": []
    },
    {
      "cell_type": "code",
      "source": [],
      "metadata": {
        "id": "lCZ1S2bjlsw3"
      },
      "execution_count": null,
      "outputs": []
    },
    {
      "cell_type": "markdown",
      "source": [
        "🔹 What is KNN?\n",
        "Explain via analogy:\n",
        "\n",
        "“Imagine you move to a new city and want to find a good restaurant. You ask 5 locals nearby. If 3 say 'Pizza', you assume that’s a popular choice. That’s KNN!”\n",
        "\n",
        "📌 Concept:\n",
        "\n",
        "KNN is a lazy learner: It doesn’t learn a model, it memorizes the dataset.\n",
        "\n",
        "It predicts based on the majority vote of K closest neighbors."
      ],
      "metadata": {
        "id": "vb6CaMWq5ee1"
      }
    },
    {
      "cell_type": "code",
      "execution_count": null,
      "metadata": {
        "id": "hOPcj1-Badws",
        "colab": {
          "base_uri": "https://localhost:8080/",
          "height": 80
        },
        "outputId": "c6aa2ea4-c243-46ce-8814-aae496475ea9"
      },
      "outputs": [
        {
          "output_type": "execute_result",
          "data": {
            "text/plain": [
              "KNeighborsClassifier()"
            ],
            "text/html": [
              "<style>#sk-container-id-1 {\n",
              "  /* Definition of color scheme common for light and dark mode */\n",
              "  --sklearn-color-text: #000;\n",
              "  --sklearn-color-text-muted: #666;\n",
              "  --sklearn-color-line: gray;\n",
              "  /* Definition of color scheme for unfitted estimators */\n",
              "  --sklearn-color-unfitted-level-0: #fff5e6;\n",
              "  --sklearn-color-unfitted-level-1: #f6e4d2;\n",
              "  --sklearn-color-unfitted-level-2: #ffe0b3;\n",
              "  --sklearn-color-unfitted-level-3: chocolate;\n",
              "  /* Definition of color scheme for fitted estimators */\n",
              "  --sklearn-color-fitted-level-0: #f0f8ff;\n",
              "  --sklearn-color-fitted-level-1: #d4ebff;\n",
              "  --sklearn-color-fitted-level-2: #b3dbfd;\n",
              "  --sklearn-color-fitted-level-3: cornflowerblue;\n",
              "\n",
              "  /* Specific color for light theme */\n",
              "  --sklearn-color-text-on-default-background: var(--sg-text-color, var(--theme-code-foreground, var(--jp-content-font-color1, black)));\n",
              "  --sklearn-color-background: var(--sg-background-color, var(--theme-background, var(--jp-layout-color0, white)));\n",
              "  --sklearn-color-border-box: var(--sg-text-color, var(--theme-code-foreground, var(--jp-content-font-color1, black)));\n",
              "  --sklearn-color-icon: #696969;\n",
              "\n",
              "  @media (prefers-color-scheme: dark) {\n",
              "    /* Redefinition of color scheme for dark theme */\n",
              "    --sklearn-color-text-on-default-background: var(--sg-text-color, var(--theme-code-foreground, var(--jp-content-font-color1, white)));\n",
              "    --sklearn-color-background: var(--sg-background-color, var(--theme-background, var(--jp-layout-color0, #111)));\n",
              "    --sklearn-color-border-box: var(--sg-text-color, var(--theme-code-foreground, var(--jp-content-font-color1, white)));\n",
              "    --sklearn-color-icon: #878787;\n",
              "  }\n",
              "}\n",
              "\n",
              "#sk-container-id-1 {\n",
              "  color: var(--sklearn-color-text);\n",
              "}\n",
              "\n",
              "#sk-container-id-1 pre {\n",
              "  padding: 0;\n",
              "}\n",
              "\n",
              "#sk-container-id-1 input.sk-hidden--visually {\n",
              "  border: 0;\n",
              "  clip: rect(1px 1px 1px 1px);\n",
              "  clip: rect(1px, 1px, 1px, 1px);\n",
              "  height: 1px;\n",
              "  margin: -1px;\n",
              "  overflow: hidden;\n",
              "  padding: 0;\n",
              "  position: absolute;\n",
              "  width: 1px;\n",
              "}\n",
              "\n",
              "#sk-container-id-1 div.sk-dashed-wrapped {\n",
              "  border: 1px dashed var(--sklearn-color-line);\n",
              "  margin: 0 0.4em 0.5em 0.4em;\n",
              "  box-sizing: border-box;\n",
              "  padding-bottom: 0.4em;\n",
              "  background-color: var(--sklearn-color-background);\n",
              "}\n",
              "\n",
              "#sk-container-id-1 div.sk-container {\n",
              "  /* jupyter's `normalize.less` sets `[hidden] { display: none; }`\n",
              "     but bootstrap.min.css set `[hidden] { display: none !important; }`\n",
              "     so we also need the `!important` here to be able to override the\n",
              "     default hidden behavior on the sphinx rendered scikit-learn.org.\n",
              "     See: https://github.com/scikit-learn/scikit-learn/issues/21755 */\n",
              "  display: inline-block !important;\n",
              "  position: relative;\n",
              "}\n",
              "\n",
              "#sk-container-id-1 div.sk-text-repr-fallback {\n",
              "  display: none;\n",
              "}\n",
              "\n",
              "div.sk-parallel-item,\n",
              "div.sk-serial,\n",
              "div.sk-item {\n",
              "  /* draw centered vertical line to link estimators */\n",
              "  background-image: linear-gradient(var(--sklearn-color-text-on-default-background), var(--sklearn-color-text-on-default-background));\n",
              "  background-size: 2px 100%;\n",
              "  background-repeat: no-repeat;\n",
              "  background-position: center center;\n",
              "}\n",
              "\n",
              "/* Parallel-specific style estimator block */\n",
              "\n",
              "#sk-container-id-1 div.sk-parallel-item::after {\n",
              "  content: \"\";\n",
              "  width: 100%;\n",
              "  border-bottom: 2px solid var(--sklearn-color-text-on-default-background);\n",
              "  flex-grow: 1;\n",
              "}\n",
              "\n",
              "#sk-container-id-1 div.sk-parallel {\n",
              "  display: flex;\n",
              "  align-items: stretch;\n",
              "  justify-content: center;\n",
              "  background-color: var(--sklearn-color-background);\n",
              "  position: relative;\n",
              "}\n",
              "\n",
              "#sk-container-id-1 div.sk-parallel-item {\n",
              "  display: flex;\n",
              "  flex-direction: column;\n",
              "}\n",
              "\n",
              "#sk-container-id-1 div.sk-parallel-item:first-child::after {\n",
              "  align-self: flex-end;\n",
              "  width: 50%;\n",
              "}\n",
              "\n",
              "#sk-container-id-1 div.sk-parallel-item:last-child::after {\n",
              "  align-self: flex-start;\n",
              "  width: 50%;\n",
              "}\n",
              "\n",
              "#sk-container-id-1 div.sk-parallel-item:only-child::after {\n",
              "  width: 0;\n",
              "}\n",
              "\n",
              "/* Serial-specific style estimator block */\n",
              "\n",
              "#sk-container-id-1 div.sk-serial {\n",
              "  display: flex;\n",
              "  flex-direction: column;\n",
              "  align-items: center;\n",
              "  background-color: var(--sklearn-color-background);\n",
              "  padding-right: 1em;\n",
              "  padding-left: 1em;\n",
              "}\n",
              "\n",
              "\n",
              "/* Toggleable style: style used for estimator/Pipeline/ColumnTransformer box that is\n",
              "clickable and can be expanded/collapsed.\n",
              "- Pipeline and ColumnTransformer use this feature and define the default style\n",
              "- Estimators will overwrite some part of the style using the `sk-estimator` class\n",
              "*/\n",
              "\n",
              "/* Pipeline and ColumnTransformer style (default) */\n",
              "\n",
              "#sk-container-id-1 div.sk-toggleable {\n",
              "  /* Default theme specific background. It is overwritten whether we have a\n",
              "  specific estimator or a Pipeline/ColumnTransformer */\n",
              "  background-color: var(--sklearn-color-background);\n",
              "}\n",
              "\n",
              "/* Toggleable label */\n",
              "#sk-container-id-1 label.sk-toggleable__label {\n",
              "  cursor: pointer;\n",
              "  display: flex;\n",
              "  width: 100%;\n",
              "  margin-bottom: 0;\n",
              "  padding: 0.5em;\n",
              "  box-sizing: border-box;\n",
              "  text-align: center;\n",
              "  align-items: start;\n",
              "  justify-content: space-between;\n",
              "  gap: 0.5em;\n",
              "}\n",
              "\n",
              "#sk-container-id-1 label.sk-toggleable__label .caption {\n",
              "  font-size: 0.6rem;\n",
              "  font-weight: lighter;\n",
              "  color: var(--sklearn-color-text-muted);\n",
              "}\n",
              "\n",
              "#sk-container-id-1 label.sk-toggleable__label-arrow:before {\n",
              "  /* Arrow on the left of the label */\n",
              "  content: \"▸\";\n",
              "  float: left;\n",
              "  margin-right: 0.25em;\n",
              "  color: var(--sklearn-color-icon);\n",
              "}\n",
              "\n",
              "#sk-container-id-1 label.sk-toggleable__label-arrow:hover:before {\n",
              "  color: var(--sklearn-color-text);\n",
              "}\n",
              "\n",
              "/* Toggleable content - dropdown */\n",
              "\n",
              "#sk-container-id-1 div.sk-toggleable__content {\n",
              "  max-height: 0;\n",
              "  max-width: 0;\n",
              "  overflow: hidden;\n",
              "  text-align: left;\n",
              "  /* unfitted */\n",
              "  background-color: var(--sklearn-color-unfitted-level-0);\n",
              "}\n",
              "\n",
              "#sk-container-id-1 div.sk-toggleable__content.fitted {\n",
              "  /* fitted */\n",
              "  background-color: var(--sklearn-color-fitted-level-0);\n",
              "}\n",
              "\n",
              "#sk-container-id-1 div.sk-toggleable__content pre {\n",
              "  margin: 0.2em;\n",
              "  border-radius: 0.25em;\n",
              "  color: var(--sklearn-color-text);\n",
              "  /* unfitted */\n",
              "  background-color: var(--sklearn-color-unfitted-level-0);\n",
              "}\n",
              "\n",
              "#sk-container-id-1 div.sk-toggleable__content.fitted pre {\n",
              "  /* unfitted */\n",
              "  background-color: var(--sklearn-color-fitted-level-0);\n",
              "}\n",
              "\n",
              "#sk-container-id-1 input.sk-toggleable__control:checked~div.sk-toggleable__content {\n",
              "  /* Expand drop-down */\n",
              "  max-height: 200px;\n",
              "  max-width: 100%;\n",
              "  overflow: auto;\n",
              "}\n",
              "\n",
              "#sk-container-id-1 input.sk-toggleable__control:checked~label.sk-toggleable__label-arrow:before {\n",
              "  content: \"▾\";\n",
              "}\n",
              "\n",
              "/* Pipeline/ColumnTransformer-specific style */\n",
              "\n",
              "#sk-container-id-1 div.sk-label input.sk-toggleable__control:checked~label.sk-toggleable__label {\n",
              "  color: var(--sklearn-color-text);\n",
              "  background-color: var(--sklearn-color-unfitted-level-2);\n",
              "}\n",
              "\n",
              "#sk-container-id-1 div.sk-label.fitted input.sk-toggleable__control:checked~label.sk-toggleable__label {\n",
              "  background-color: var(--sklearn-color-fitted-level-2);\n",
              "}\n",
              "\n",
              "/* Estimator-specific style */\n",
              "\n",
              "/* Colorize estimator box */\n",
              "#sk-container-id-1 div.sk-estimator input.sk-toggleable__control:checked~label.sk-toggleable__label {\n",
              "  /* unfitted */\n",
              "  background-color: var(--sklearn-color-unfitted-level-2);\n",
              "}\n",
              "\n",
              "#sk-container-id-1 div.sk-estimator.fitted input.sk-toggleable__control:checked~label.sk-toggleable__label {\n",
              "  /* fitted */\n",
              "  background-color: var(--sklearn-color-fitted-level-2);\n",
              "}\n",
              "\n",
              "#sk-container-id-1 div.sk-label label.sk-toggleable__label,\n",
              "#sk-container-id-1 div.sk-label label {\n",
              "  /* The background is the default theme color */\n",
              "  color: var(--sklearn-color-text-on-default-background);\n",
              "}\n",
              "\n",
              "/* On hover, darken the color of the background */\n",
              "#sk-container-id-1 div.sk-label:hover label.sk-toggleable__label {\n",
              "  color: var(--sklearn-color-text);\n",
              "  background-color: var(--sklearn-color-unfitted-level-2);\n",
              "}\n",
              "\n",
              "/* Label box, darken color on hover, fitted */\n",
              "#sk-container-id-1 div.sk-label.fitted:hover label.sk-toggleable__label.fitted {\n",
              "  color: var(--sklearn-color-text);\n",
              "  background-color: var(--sklearn-color-fitted-level-2);\n",
              "}\n",
              "\n",
              "/* Estimator label */\n",
              "\n",
              "#sk-container-id-1 div.sk-label label {\n",
              "  font-family: monospace;\n",
              "  font-weight: bold;\n",
              "  display: inline-block;\n",
              "  line-height: 1.2em;\n",
              "}\n",
              "\n",
              "#sk-container-id-1 div.sk-label-container {\n",
              "  text-align: center;\n",
              "}\n",
              "\n",
              "/* Estimator-specific */\n",
              "#sk-container-id-1 div.sk-estimator {\n",
              "  font-family: monospace;\n",
              "  border: 1px dotted var(--sklearn-color-border-box);\n",
              "  border-radius: 0.25em;\n",
              "  box-sizing: border-box;\n",
              "  margin-bottom: 0.5em;\n",
              "  /* unfitted */\n",
              "  background-color: var(--sklearn-color-unfitted-level-0);\n",
              "}\n",
              "\n",
              "#sk-container-id-1 div.sk-estimator.fitted {\n",
              "  /* fitted */\n",
              "  background-color: var(--sklearn-color-fitted-level-0);\n",
              "}\n",
              "\n",
              "/* on hover */\n",
              "#sk-container-id-1 div.sk-estimator:hover {\n",
              "  /* unfitted */\n",
              "  background-color: var(--sklearn-color-unfitted-level-2);\n",
              "}\n",
              "\n",
              "#sk-container-id-1 div.sk-estimator.fitted:hover {\n",
              "  /* fitted */\n",
              "  background-color: var(--sklearn-color-fitted-level-2);\n",
              "}\n",
              "\n",
              "/* Specification for estimator info (e.g. \"i\" and \"?\") */\n",
              "\n",
              "/* Common style for \"i\" and \"?\" */\n",
              "\n",
              ".sk-estimator-doc-link,\n",
              "a:link.sk-estimator-doc-link,\n",
              "a:visited.sk-estimator-doc-link {\n",
              "  float: right;\n",
              "  font-size: smaller;\n",
              "  line-height: 1em;\n",
              "  font-family: monospace;\n",
              "  background-color: var(--sklearn-color-background);\n",
              "  border-radius: 1em;\n",
              "  height: 1em;\n",
              "  width: 1em;\n",
              "  text-decoration: none !important;\n",
              "  margin-left: 0.5em;\n",
              "  text-align: center;\n",
              "  /* unfitted */\n",
              "  border: var(--sklearn-color-unfitted-level-1) 1pt solid;\n",
              "  color: var(--sklearn-color-unfitted-level-1);\n",
              "}\n",
              "\n",
              ".sk-estimator-doc-link.fitted,\n",
              "a:link.sk-estimator-doc-link.fitted,\n",
              "a:visited.sk-estimator-doc-link.fitted {\n",
              "  /* fitted */\n",
              "  border: var(--sklearn-color-fitted-level-1) 1pt solid;\n",
              "  color: var(--sklearn-color-fitted-level-1);\n",
              "}\n",
              "\n",
              "/* On hover */\n",
              "div.sk-estimator:hover .sk-estimator-doc-link:hover,\n",
              ".sk-estimator-doc-link:hover,\n",
              "div.sk-label-container:hover .sk-estimator-doc-link:hover,\n",
              ".sk-estimator-doc-link:hover {\n",
              "  /* unfitted */\n",
              "  background-color: var(--sklearn-color-unfitted-level-3);\n",
              "  color: var(--sklearn-color-background);\n",
              "  text-decoration: none;\n",
              "}\n",
              "\n",
              "div.sk-estimator.fitted:hover .sk-estimator-doc-link.fitted:hover,\n",
              ".sk-estimator-doc-link.fitted:hover,\n",
              "div.sk-label-container:hover .sk-estimator-doc-link.fitted:hover,\n",
              ".sk-estimator-doc-link.fitted:hover {\n",
              "  /* fitted */\n",
              "  background-color: var(--sklearn-color-fitted-level-3);\n",
              "  color: var(--sklearn-color-background);\n",
              "  text-decoration: none;\n",
              "}\n",
              "\n",
              "/* Span, style for the box shown on hovering the info icon */\n",
              ".sk-estimator-doc-link span {\n",
              "  display: none;\n",
              "  z-index: 9999;\n",
              "  position: relative;\n",
              "  font-weight: normal;\n",
              "  right: .2ex;\n",
              "  padding: .5ex;\n",
              "  margin: .5ex;\n",
              "  width: min-content;\n",
              "  min-width: 20ex;\n",
              "  max-width: 50ex;\n",
              "  color: var(--sklearn-color-text);\n",
              "  box-shadow: 2pt 2pt 4pt #999;\n",
              "  /* unfitted */\n",
              "  background: var(--sklearn-color-unfitted-level-0);\n",
              "  border: .5pt solid var(--sklearn-color-unfitted-level-3);\n",
              "}\n",
              "\n",
              ".sk-estimator-doc-link.fitted span {\n",
              "  /* fitted */\n",
              "  background: var(--sklearn-color-fitted-level-0);\n",
              "  border: var(--sklearn-color-fitted-level-3);\n",
              "}\n",
              "\n",
              ".sk-estimator-doc-link:hover span {\n",
              "  display: block;\n",
              "}\n",
              "\n",
              "/* \"?\"-specific style due to the `<a>` HTML tag */\n",
              "\n",
              "#sk-container-id-1 a.estimator_doc_link {\n",
              "  float: right;\n",
              "  font-size: 1rem;\n",
              "  line-height: 1em;\n",
              "  font-family: monospace;\n",
              "  background-color: var(--sklearn-color-background);\n",
              "  border-radius: 1rem;\n",
              "  height: 1rem;\n",
              "  width: 1rem;\n",
              "  text-decoration: none;\n",
              "  /* unfitted */\n",
              "  color: var(--sklearn-color-unfitted-level-1);\n",
              "  border: var(--sklearn-color-unfitted-level-1) 1pt solid;\n",
              "}\n",
              "\n",
              "#sk-container-id-1 a.estimator_doc_link.fitted {\n",
              "  /* fitted */\n",
              "  border: var(--sklearn-color-fitted-level-1) 1pt solid;\n",
              "  color: var(--sklearn-color-fitted-level-1);\n",
              "}\n",
              "\n",
              "/* On hover */\n",
              "#sk-container-id-1 a.estimator_doc_link:hover {\n",
              "  /* unfitted */\n",
              "  background-color: var(--sklearn-color-unfitted-level-3);\n",
              "  color: var(--sklearn-color-background);\n",
              "  text-decoration: none;\n",
              "}\n",
              "\n",
              "#sk-container-id-1 a.estimator_doc_link.fitted:hover {\n",
              "  /* fitted */\n",
              "  background-color: var(--sklearn-color-fitted-level-3);\n",
              "}\n",
              "</style><div id=\"sk-container-id-1\" class=\"sk-top-container\"><div class=\"sk-text-repr-fallback\"><pre>KNeighborsClassifier()</pre><b>In a Jupyter environment, please rerun this cell to show the HTML representation or trust the notebook. <br />On GitHub, the HTML representation is unable to render, please try loading this page with nbviewer.org.</b></div><div class=\"sk-container\" hidden><div class=\"sk-item\"><div class=\"sk-estimator fitted sk-toggleable\"><input class=\"sk-toggleable__control sk-hidden--visually\" id=\"sk-estimator-id-1\" type=\"checkbox\" checked><label for=\"sk-estimator-id-1\" class=\"sk-toggleable__label fitted sk-toggleable__label-arrow\"><div><div>KNeighborsClassifier</div></div><div><a class=\"sk-estimator-doc-link fitted\" rel=\"noreferrer\" target=\"_blank\" href=\"https://scikit-learn.org/1.6/modules/generated/sklearn.neighbors.KNeighborsClassifier.html\">?<span>Documentation for KNeighborsClassifier</span></a><span class=\"sk-estimator-doc-link fitted\">i<span>Fitted</span></span></div></label><div class=\"sk-toggleable__content fitted\"><pre>KNeighborsClassifier()</pre></div> </div></div></div></div>"
            ]
          },
          "metadata": {},
          "execution_count": 12
        }
      ],
      "source": [
        "from sklearn.neighbors import KNeighborsClassifier\n",
        "y_train_large = (y_train.astype(int) >= 7)\n",
        "y_train_odd = (y_train.astype(int) % 2 == 1)\n",
        "y_multilabel = np.c_[y_train_large, y_train_odd]\n",
        "knn_clf = KNeighborsClassifier()\n",
        "knn_clf.fit(X_train, y_multilabel)"
      ]
    },
    {
      "cell_type": "code",
      "source": [
        "knn_clf.predict([some_digit])"
      ],
      "metadata": {
        "colab": {
          "base_uri": "https://localhost:8080/"
        },
        "id": "leiEyWgQrDHe",
        "outputId": "b44ba809-278f-443d-c11e-91bb12cdbe2e"
      },
      "execution_count": null,
      "outputs": [
        {
          "output_type": "execute_result",
          "data": {
            "text/plain": [
              "array([[ True,  True]])"
            ]
          },
          "metadata": {},
          "execution_count": 43
        }
      ]
    },
    {
      "cell_type": "code",
      "source": [
        "from sklearn.model_selection import cross_val_predict\n",
        "from sklearn.metrics import f1_score\n",
        "\n",
        "y_train_knn_pred = cross_val_predict(knn_clf, X_train, y_multilabel, cv=3)\n",
        "f1_score(y_multilabel, y_train_knn_pred, average=\"macro\")"
      ],
      "metadata": {
        "colab": {
          "base_uri": "https://localhost:8080/"
        },
        "id": "LFbFYYPk6-RL",
        "outputId": "ef169c1a-cd82-4f43-9027-fc48d1a39242"
      },
      "execution_count": null,
      "outputs": [
        {
          "output_type": "execute_result",
          "data": {
            "text/plain": [
              "0.9764102655606048"
            ]
          },
          "metadata": {},
          "execution_count": 26
        }
      ]
    },
    {
      "cell_type": "code",
      "source": [],
      "metadata": {
        "id": "dqee0U2Zu5CO"
      },
      "execution_count": null,
      "outputs": []
    }
  ]
}
